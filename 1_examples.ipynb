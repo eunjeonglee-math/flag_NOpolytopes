{
 "cells": [
  {
   "cell_type": "code",
   "execution_count": 1,
   "id": "40a95bb4-e387-4266-b0b1-ad5e6643d686",
   "metadata": {},
   "outputs": [],
   "source": [
    "# For mac\n",
    "%run /Users/eunjeonglee/Dropbox/My/Sage/2024_Jeongsoo/20251021_github_ver1/0_functions.ipynb"
   ]
  },
  {
   "cell_type": "code",
   "execution_count": 2,
   "id": "f297bb34-0007-4e6e-8feb-48503ab47cdf",
   "metadata": {},
   "outputs": [],
   "source": [
    "# For Windows SageMath 10.5\n",
    "# %run 0_functions.ipynb"
   ]
  },
  {
   "cell_type": "markdown",
   "id": "fef7019a-4e54-4a56-828a-1370614e9399",
   "metadata": {},
   "source": [
    "One has to run 0_functions.ipynb"
   ]
  },
  {
   "cell_type": "markdown",
   "id": "5e13325d-c103-4f98-86a2-ffa89c78d256",
   "metadata": {},
   "source": [
    "## String polytopes\n",
    "#### Example 1. One can produce the string polytope for a given reduced word of the lognest element w0 and a weight."
   ]
  },
  {
   "cell_type": "code",
   "execution_count": 3,
   "id": "8b0ed268-b020-48fd-be69-2ba7e11b2500",
   "metadata": {},
   "outputs": [
    {
     "name": "stdout",
     "output_type": "stream",
     "text": [
      "A 3-dimensional polyhedron in QQ^3 defined as the convex hull of 7 vertices\n",
      "A 6-dimensional polyhedron in QQ^6 defined as the convex hull of 40 vertices\n",
      "A 10-dimensional polyhedron in QQ^10 defined as the convex hull of 358 vertices\n"
     ]
    }
   ],
   "source": [
    "def w0_std(n):\n",
    "    \"\"\"w0 in S_{n+1} as a tuple [n+1, n, ..., 1].  n>=1.\"\"\"\n",
    "    temp = [] \n",
    "    for ii in range(n):\n",
    "        temp += list(range(ii+1,0,-1))\n",
    "    return temp\n",
    "    \n",
    "for n in [2,3,4]: \n",
    "    w = w0_std(n)\n",
    "    print(string_polytope(w, [2]*n))"
   ]
  },
  {
   "cell_type": "code",
   "execution_count": null,
   "id": "d454be41-8c78-4002-9656-c2d681499e72",
   "metadata": {},
   "outputs": [],
   "source": []
  },
  {
   "cell_type": "code",
   "execution_count": null,
   "id": "1102f071-dfc5-460d-9538-a347bbb9d89c",
   "metadata": {},
   "outputs": [],
   "source": []
  },
  {
   "cell_type": "markdown",
   "id": "ac411fec-8c80-4385-8046-9cbc474017f7",
   "metadata": {},
   "source": [
    "#### Example 2. Two string polytopes corresponding to $s_1s_2s_1$ and $s_2s_1s_2$ are combinatorially equivalent."
   ]
  },
  {
   "cell_type": "code",
   "execution_count": 4,
   "id": "8fde982e-37d0-426e-9acf-c298570a114c",
   "metadata": {},
   "outputs": [
    {
     "data": {
      "text/plain": [
       "True"
      ]
     },
     "execution_count": 4,
     "metadata": {},
     "output_type": "execute_result"
    }
   ],
   "source": [
    "string_polytope([1,2,1],[2,2]).is_combinatorially_isomorphic(string_polytope([2,1,2],[2,2]))"
   ]
  },
  {
   "cell_type": "code",
   "execution_count": null,
   "id": "43bdaff9-495d-4b38-bc54-5f30945ddd2a",
   "metadata": {},
   "outputs": [],
   "source": []
  },
  {
   "cell_type": "markdown",
   "id": "1b32d113-8557-4fc6-834b-02870274a7cc",
   "metadata": {},
   "source": [
    "#### Example 3. We can compute all string polytopes in a given dimension and find combinatorially isomorphic classes."
   ]
  },
  {
   "cell_type": "code",
   "execution_count": 5,
   "id": "a587f16c-e5aa-4043-b5e0-e1a24737886c",
   "metadata": {},
   "outputs": [],
   "source": [
    "n = 3 \n",
    "string_polytopes_in_dim_6 = [string_polytope(decomp, [2]*n) for decomp in Permutation(list(range(n+1,0,-1))).reduced_words()]"
   ]
  },
  {
   "cell_type": "code",
   "execution_count": 6,
   "id": "fad76be4-ab9d-4bee-af19-e6533c004156",
   "metadata": {},
   "outputs": [],
   "source": [
    "## find combinatorially isomorphic classes \n",
    "classes = []\n",
    "for pyt in string_polytopes_in_dim_6:\n",
    "    c = 0\n",
    "    for rep in classes:\n",
    "        if pyt.is_combinatorially_isomorphic(rep[0]): \n",
    "            rep.append(pyt) \n",
    "            c = 1 \n",
    "            break \n",
    "\n",
    "    if c == 0:\n",
    "        classes.append([pyt]) "
   ]
  },
  {
   "cell_type": "code",
   "execution_count": 7,
   "id": "2be81617-8a34-4aeb-b8ce-04fb0e5efc4e",
   "metadata": {},
   "outputs": [
    {
     "name": "stdout",
     "output_type": "stream",
     "text": [
      "(1, 40, 132, 186, 139, 57, 12, 1)\n",
      "(1, 42, 141, 202, 153, 63, 13, 1)\n",
      "(1, 42, 141, 202, 153, 63, 13, 1)\n",
      "(1, 38, 133, 197, 152, 63, 13, 1)\n"
     ]
    }
   ],
   "source": [
    "for elt in classes:\n",
    "    print(elt[0].f_vector())"
   ]
  },
  {
   "cell_type": "code",
   "execution_count": null,
   "id": "f5e5ee3e-8483-4b02-856c-801d169a2a12",
   "metadata": {},
   "outputs": [],
   "source": []
  },
  {
   "cell_type": "markdown",
   "id": "01bfa4ba-4870-4bd5-a016-466062e67a4b",
   "metadata": {},
   "source": [
    "#### To apply Fujita-Oya's mutation, we have to consider an affine transformation $M_{\\mathbf i}$."
   ]
  },
  {
   "cell_type": "code",
   "execution_count": 8,
   "id": "59ac84dc-85d7-4248-b021-7bfd07027a64",
   "metadata": {},
   "outputs": [
    {
     "data": {
      "text/plain": [
       "(An inequality (-1, 0, -1, 0, 0, -1) x + 1 >= 0,\n",
       " An inequality (0, -1, 0, 0, -1, 0) x + 1 >= 0,\n",
       " An inequality (0, 0, -1, 0, 0, -1) x + 1 >= 0,\n",
       " An inequality (0, 0, 0, -1, 0, 0) x + 1 >= 0,\n",
       " An inequality (0, 0, 0, 0, -1, 0) x + 1 >= 0,\n",
       " An inequality (0, 0, 0, 0, 0, -1) x + 1 >= 0,\n",
       " An inequality (1, 1, 0, 1, 0, 0) x + 1 >= 0,\n",
       " An inequality (0, 0, 0, 0, 0, 1) x + 1 >= 0,\n",
       " An inequality (0, 0, 0, 0, 1, 0) x + 1 >= 0,\n",
       " An inequality (0, 0, 0, 1, 0, 0) x + 1 >= 0,\n",
       " An inequality (0, 0, 1, 0, 1, 0) x + 1 >= 0,\n",
       " An inequality (0, 1, 0, 1, 0, 0) x + 1 >= 0)"
      ]
     },
     "execution_count": 8,
     "metadata": {},
     "output_type": "execute_result"
    }
   ],
   "source": [
    "n=3\n",
    "P_transformation = transf_Mi(w0_std(3), string_polytope(w0_std(n),[2]*n)); \n",
    "P_transformation.Hrepresentation()"
   ]
  },
  {
   "cell_type": "code",
   "execution_count": 9,
   "id": "17bc1b58-aad7-4598-8685-ce60ede77d25",
   "metadata": {},
   "outputs": [
    {
     "data": {
      "text/plain": [
       "True"
      ]
     },
     "execution_count": 9,
     "metadata": {},
     "output_type": "execute_result"
    }
   ],
   "source": [
    "P_transformation.is_combinatorially_isomorphic(string_polytope(w0_std(n),[2]*n))"
   ]
  },
  {
   "cell_type": "code",
   "execution_count": null,
   "id": "c5420085-71cf-4364-93c2-93b7f9151065",
   "metadata": {},
   "outputs": [],
   "source": []
  },
  {
   "cell_type": "markdown",
   "id": "ddaef497-eb6b-42cd-9a45-7bc075e12ef9",
   "metadata": {},
   "source": [
    "``FO_polytope`` is defined to be the polytope applying $M_{\\mathbf i}$ to the string polytope ``string_polytope`` for $\\mathbf i$ and the list [2]*n."
   ]
  },
  {
   "cell_type": "code",
   "execution_count": 10,
   "id": "b37f1dc0-a300-4863-82f9-353580c4fd05",
   "metadata": {},
   "outputs": [
    {
     "data": {
      "text/plain": [
       "A 6-dimensional polyhedron in QQ^6 defined as the convex hull of 40 vertices (use the .plot() method to plot)"
      ]
     },
     "execution_count": 10,
     "metadata": {},
     "output_type": "execute_result"
    }
   ],
   "source": [
    "n=3\n",
    "FO_polytope(w0_std(n))"
   ]
  },
  {
   "cell_type": "code",
   "execution_count": 11,
   "id": "99d5f567-1705-4978-ba76-0559365edfb6",
   "metadata": {},
   "outputs": [
    {
     "data": {
      "text/plain": [
       "True"
      ]
     },
     "execution_count": 11,
     "metadata": {},
     "output_type": "execute_result"
    }
   ],
   "source": [
    "FO_polytope(w0_std(n)) == P_transformation"
   ]
  },
  {
   "cell_type": "code",
   "execution_count": null,
   "id": "304902ae-499f-4cc2-b1c6-61208d9c5607",
   "metadata": {},
   "outputs": [],
   "source": []
  },
  {
   "cell_type": "code",
   "execution_count": null,
   "id": "297d6e42-55d5-428c-9168-9547bc633f0a",
   "metadata": {},
   "outputs": [],
   "source": []
  },
  {
   "cell_type": "markdown",
   "id": "8a1526bf-254b-45d3-b71c-e5c265e65571",
   "metadata": {},
   "source": [
    "## Mutations"
   ]
  },
  {
   "cell_type": "markdown",
   "id": "41c1c1b7-1601-4a8b-8b8d-87177359315c",
   "metadata": {},
   "source": [
    "#### Example 1. Polytope transformation (polytope mutation) for 3-dim GC polytope using a triangular quiver.\n",
    "Here, `triangular_quiver` produces a triangular quiver whose edge length is `n`. One may put frozen vertices. "
   ]
  },
  {
   "cell_type": "code",
   "execution_count": 12,
   "id": "89547c66-471c-4515-a7d5-4d993d6e9ae8",
   "metadata": {},
   "outputs": [
    {
     "data": {
      "text/plain": [
       "(An inequality (-1, 0, -1) x + 1 >= 0,\n",
       " An inequality (0, -1, 0) x + 1 >= 0,\n",
       " An inequality (0, 0, -1) x + 1 >= 0,\n",
       " An inequality (1, 1, 0) x + 1 >= 0,\n",
       " An inequality (0, 0, 1) x + 1 >= 0,\n",
       " An inequality (0, 1, 0) x + 1 >= 0)"
      ]
     },
     "execution_count": 12,
     "metadata": {},
     "output_type": "execute_result"
    }
   ],
   "source": [
    "P2 = FO_polytope(w0_std(2)); P2.Hrepresentation()"
   ]
  },
  {
   "cell_type": "code",
   "execution_count": 13,
   "id": "bfa61765-c778-45c2-8d16-4d176ca03f47",
   "metadata": {
    "scrolled": true
   },
   "outputs": [
    {
     "data": {
      "text/plain": [
       "[ 0 -1  1]\n",
       "[ 1  0 -1]\n",
       "[-1  1  0]"
      ]
     },
     "execution_count": 13,
     "metadata": {},
     "output_type": "execute_result"
    }
   ],
   "source": [
    "Q2 = triangular_quiver(2,[]); Q2.b_matrix()"
   ]
  },
  {
   "cell_type": "code",
   "execution_count": 14,
   "id": "0bb1b793-5d5a-49ac-8ab0-94173b58e5d0",
   "metadata": {
    "scrolled": true
   },
   "outputs": [
    {
     "data": {
      "text/plain": [
       "(An inequality (0, 1, 0) x + 1 >= 0,\n",
       " An inequality (0, 0, -1) x + 1 >= 0,\n",
       " An inequality (-1, -1, 0) x + 1 >= 0,\n",
       " An inequality (1, 0, 1) x + 1 >= 0,\n",
       " An inequality (0, 0, 1) x + 1 >= 0,\n",
       " An inequality (0, -1, 0) x + 1 >= 0)"
      ]
     },
     "execution_count": 14,
     "metadata": {},
     "output_type": "execute_result"
    }
   ],
   "source": [
    "trans(P2, Q2, 1).Hrepresentation()"
   ]
  },
  {
   "cell_type": "code",
   "execution_count": null,
   "id": "18e55625-e4c1-4594-b190-59b1c14e3541",
   "metadata": {},
   "outputs": [],
   "source": []
  },
  {
   "cell_type": "markdown",
   "id": "11128862-dd7e-4403-9e60-17db00b5e901",
   "metadata": {},
   "source": [
    "#### Example 2. Polytope transformation (polytope mutation) for 6-dim GC polytope using a triangular quiver."
   ]
  },
  {
   "cell_type": "code",
   "execution_count": 15,
   "id": "780403ff-a5c6-4c40-bfbc-cffa8d93ce19",
   "metadata": {},
   "outputs": [
    {
     "name": "stdout",
     "output_type": "stream",
     "text": [
      "A 6-dimensional polyhedron in QQ^6 defined as the convex hull of 40 vertices\n",
      "A 6-dimensional polyhedron in QQ^6 defined as the convex hull of 42 vertices\n"
     ]
    }
   ],
   "source": [
    "P = FO_polytope(w0_std(3))\n",
    "Q3 = triangular_quiver(3,[]) \n",
    "\n",
    "k = 3\n",
    "print(P)\n",
    "print(trans(P, Q3, 3))"
   ]
  },
  {
   "cell_type": "code",
   "execution_count": null,
   "id": "5bb7f0d1-a932-432b-927e-ba3e63845fc5",
   "metadata": {},
   "outputs": [],
   "source": []
  },
  {
   "cell_type": "markdown",
   "id": "548a64eb-6573-4b9e-adbc-acb466b9263b",
   "metadata": {},
   "source": [
    "#### Example 3. Applying polytope transformation iteratively."
   ]
  },
  {
   "cell_type": "code",
   "execution_count": 16,
   "id": "e7cef637-5921-46ff-a506-eb0b40d478e7",
   "metadata": {},
   "outputs": [],
   "source": [
    "P = FO_polytope(w0_std(3))\n",
    "Q3 = triangular_quiver(3,[]) \n",
    "k_list = [3, 1, 2]"
   ]
  },
  {
   "cell_type": "code",
   "execution_count": 17,
   "id": "4505c5a1-da47-48d2-b4e3-d8b8ba4a7fa5",
   "metadata": {},
   "outputs": [
    {
     "data": {
      "text/plain": [
       "A 6-dimensional polyhedron in QQ^6 defined as the convex hull of 42 vertices (use the .plot() method to plot)"
      ]
     },
     "execution_count": 17,
     "metadata": {},
     "output_type": "execute_result"
    }
   ],
   "source": [
    "trans_seq(P, Q3, k_list)"
   ]
  },
  {
   "cell_type": "markdown",
   "id": "d1b9b2ab-66ad-4617-9b86-009397b4553a",
   "metadata": {},
   "source": [
    "To check whether the function `trans_seq` works well, one can try the following: \n",
    "<br>\n",
    "`trans_seq(P, Q3, k_list) == trans(trans(trans(P, Q3, k_list[0]), Q3.mutate(k_list[:1], inplace = False), k_list[1]), Q3.mutate(k_list[:2], inplace = False), k_list[2])` <br>\n",
    "As we mentioned, we have to mutate both P and A. <br>\n",
    "\n",
    "Because mutations are not commute in general, the order is important. \n",
    "`trans_seq(P, Q3, k_list) == trans(trans(trans(P, Q3, k_list[-1]), Q3.mutate(k_list[-1:], inplace = False), k_list[-2]), Q3.mutate(k_list[-2:], inplace = False), k_list[-3])`"
   ]
  },
  {
   "cell_type": "code",
   "execution_count": 18,
   "id": "f6d39a21-677a-44c2-9b70-f3148e685eec",
   "metadata": {},
   "outputs": [
    {
     "data": {
      "text/plain": [
       "True"
      ]
     },
     "execution_count": 18,
     "metadata": {},
     "output_type": "execute_result"
    }
   ],
   "source": [
    "trans_seq(P, Q3, k_list) == trans(trans(trans(P, Q3, k_list[0]), Q3.mutate(k_list[:1], inplace = False), k_list[1]), Q3.mutate(k_list[:2], inplace = False), k_list[2])"
   ]
  },
  {
   "cell_type": "code",
   "execution_count": 19,
   "id": "09bc0b04-5a35-4df0-ace3-6042ba460c4c",
   "metadata": {},
   "outputs": [
    {
     "data": {
      "text/plain": [
       "False"
      ]
     },
     "execution_count": 19,
     "metadata": {},
     "output_type": "execute_result"
    }
   ],
   "source": [
    "trans_seq(P, Q3, k_list) == trans(trans(trans(P, Q3, k_list[-1]), Q3.mutate(k_list[-1:], inplace = False), k_list[-2]), Q3.mutate(k_list[-2:], inplace = False), k_list[-3])"
   ]
  },
  {
   "cell_type": "code",
   "execution_count": null,
   "id": "93b4c8e2-18f4-4990-905c-3d44dff49f50",
   "metadata": {},
   "outputs": [],
   "source": []
  },
  {
   "cell_type": "markdown",
   "id": "682c72ac-4fe9-4b22-a191-dfc91e832ef9",
   "metadata": {},
   "source": [
    "#### Example 4. For a given quiver having frozen vertices, find all seeds in the mutation class. "
   ]
  },
  {
   "cell_type": "code",
   "execution_count": 20,
   "id": "60a1d33d-4ca4-4973-90ef-72c54852c55d",
   "metadata": {},
   "outputs": [
    {
     "name": "stdout",
     "output_type": "stream",
     "text": [
      "New quivers: 3\n",
      "New quivers: 6\n",
      "New quivers: 3\n",
      "New quivers: 1\n",
      "New quivers: 0\n"
     ]
    },
    {
     "name": "stderr",
     "output_type": "stream",
     "text": [
      "/var/folders/9s/c7r39k0n42q3sjdnv4z4782c0000gn/T/ipykernel_72558/613733870.py:52:\n",
      "********************************************************************************\n",
      "Having frozen nodes is known to produce wrong answers\n",
      "This issue is being tracked at https://github.com/sagemath/sage/issues/22381.\n",
      "********************************************************************************\n"
     ]
    }
   ],
   "source": [
    "M = triangular_quiver(3, [4,5,6]); M\n",
    "A = find_all_seeds(M)"
   ]
  },
  {
   "cell_type": "code",
   "execution_count": 21,
   "id": "e83b5a57-3354-4a13-af3d-90168e39ba72",
   "metadata": {},
   "outputs": [
    {
     "data": {
      "text/plain": [
       "[[[], A seed for a cluster algebra of rank 3 with 3 frozen variables],\n",
       " [[1], A seed for a cluster algebra of rank 3 with 3 frozen variables],\n",
       " [[2], A seed for a cluster algebra of rank 3 with 3 frozen variables],\n",
       " [[3], A seed for a cluster algebra of rank 3 with 3 frozen variables],\n",
       " [[1, 2], A seed for a cluster algebra of rank 3 with 3 frozen variables],\n",
       " [[1, 3], A seed for a cluster algebra of rank 3 with 3 frozen variables],\n",
       " [[2, 1], A seed for a cluster algebra of rank 3 with 3 frozen variables],\n",
       " [[2, 3], A seed for a cluster algebra of rank 3 with 3 frozen variables],\n",
       " [[3, 1], A seed for a cluster algebra of rank 3 with 3 frozen variables],\n",
       " [[3, 2], A seed for a cluster algebra of rank 3 with 3 frozen variables],\n",
       " [[1, 2, 3], A seed for a cluster algebra of rank 3 with 3 frozen variables],\n",
       " [[2, 1, 3], A seed for a cluster algebra of rank 3 with 3 frozen variables],\n",
       " [[3, 1, 2], A seed for a cluster algebra of rank 3 with 3 frozen variables],\n",
       " [[1, 2, 3, 1],\n",
       "  A seed for a cluster algebra of rank 3 with 3 frozen variables]]"
      ]
     },
     "execution_count": 21,
     "metadata": {},
     "output_type": "execute_result"
    }
   ],
   "source": [
    "A"
   ]
  },
  {
   "cell_type": "code",
   "execution_count": null,
   "id": "5415717f-21ec-481f-8356-0cda843448ef",
   "metadata": {},
   "outputs": [],
   "source": []
  },
  {
   "cell_type": "code",
   "execution_count": null,
   "id": "e3e17e0c-9035-458c-9985-14ce41125311",
   "metadata": {},
   "outputs": [],
   "source": []
  }
 ],
 "metadata": {
  "kernelspec": {
   "display_name": "SageMath 10.4",
   "language": "sage",
   "name": "sagemath-10.4"
  },
  "language_info": {
   "codemirror_mode": {
    "name": "ipython",
    "version": 3
   },
   "file_extension": ".py",
   "mimetype": "text/x-python",
   "name": "python",
   "nbconvert_exporter": "python",
   "pygments_lexer": "ipython3",
   "version": "3.12.4"
  }
 },
 "nbformat": 4,
 "nbformat_minor": 5
}
